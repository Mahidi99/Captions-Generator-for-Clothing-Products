{
 "cells": [
  {
   "cell_type": "code",
   "execution_count": 31,
   "id": "e68f07f7",
   "metadata": {},
   "outputs": [
    {
     "name": "stdout",
     "output_type": "stream",
     "text": [
      "Requirement already satisfied: torch in c:\\users\\hp\\anaconda3\\lib\\site-packages (2.0.0)\n",
      "Requirement already satisfied: torchvision in c:\\users\\hp\\anaconda3\\lib\\site-packages (0.15.1)\n",
      "Requirement already satisfied: sympy in c:\\users\\hp\\anaconda3\\lib\\site-packages (from torch) (1.11.1)\n",
      "Requirement already satisfied: filelock in c:\\users\\hp\\anaconda3\\lib\\site-packages (from torch) (3.9.0)\n",
      "Requirement already satisfied: jinja2 in c:\\users\\hp\\anaconda3\\lib\\site-packages (from torch) (2.11.2)\n",
      "Requirement already satisfied: networkx in c:\\users\\hp\\anaconda3\\lib\\site-packages (from torch) (2.8.4)\n",
      "Requirement already satisfied: typing-extensions in c:\\users\\hp\\anaconda3\\lib\\site-packages (from torch) (4.1.1)\n",
      "Requirement already satisfied: pillow!=8.3.*,>=5.3.0 in c:\\users\\hp\\anaconda3\\lib\\site-packages (from torchvision) (9.1.0)\n",
      "Requirement already satisfied: requests in c:\\users\\hp\\anaconda3\\lib\\site-packages (from torchvision) (2.27.1)\n",
      "Requirement already satisfied: numpy in c:\\users\\hp\\anaconda3\\lib\\site-packages (from torchvision) (1.24.3)\n",
      "Requirement already satisfied: MarkupSafe>=0.23 in c:\\users\\hp\\anaconda3\\lib\\site-packages (from jinja2->torch) (1.1.1)\n",
      "Requirement already satisfied: charset-normalizer~=2.0.0 in c:\\users\\hp\\anaconda3\\lib\\site-packages (from requests->torchvision) (2.0.12)\n",
      "Requirement already satisfied: idna<4,>=2.5 in c:\\users\\hp\\anaconda3\\lib\\site-packages (from requests->torchvision) (3.3)\n",
      "Requirement already satisfied: certifi>=2017.4.17 in c:\\users\\hp\\anaconda3\\lib\\site-packages (from requests->torchvision) (2021.10.8)\n",
      "Requirement already satisfied: urllib3<1.27,>=1.21.1 in c:\\users\\hp\\anaconda3\\lib\\site-packages (from requests->torchvision) (1.26.9)\n",
      "Requirement already satisfied: mpmath>=0.19 in c:\\users\\hp\\anaconda3\\lib\\site-packages (from sympy->torch) (1.2.1)\n"
     ]
    },
    {
     "name": "stderr",
     "output_type": "stream",
     "text": [
      "WARNING: Ignoring invalid distribution -rotobuf (c:\\users\\hp\\anaconda3\\lib\\site-packages)\n",
      "WARNING: Ignoring invalid distribution -rotobuf (c:\\users\\hp\\anaconda3\\lib\\site-packages)\n",
      "WARNING: Ignoring invalid distribution -rotobuf (c:\\users\\hp\\anaconda3\\lib\\site-packages)\n",
      "WARNING: Ignoring invalid distribution -rotobuf (c:\\users\\hp\\anaconda3\\lib\\site-packages)\n",
      "WARNING: Ignoring invalid distribution -rotobuf (c:\\users\\hp\\anaconda3\\lib\\site-packages)\n",
      "WARNING: Ignoring invalid distribution -rotobuf (c:\\users\\hp\\anaconda3\\lib\\site-packages)\n"
     ]
    }
   ],
   "source": [
    "!pip install torch torchvision"
   ]
  },
  {
   "cell_type": "code",
   "execution_count": 32,
   "id": "3279173a",
   "metadata": {},
   "outputs": [
    {
     "name": "stdout",
     "output_type": "stream",
     "text": [
      "Requirement already satisfied: pretrainedmodels in c:\\users\\hp\\anaconda3\\lib\\site-packages (0.7.4)"
     ]
    },
    {
     "name": "stderr",
     "output_type": "stream",
     "text": [
      "WARNING: Ignoring invalid distribution -rotobuf (c:\\users\\hp\\anaconda3\\lib\\site-packages)\n",
      "WARNING: Ignoring invalid distribution -rotobuf (c:\\users\\hp\\anaconda3\\lib\\site-packages)\n",
      "WARNING: Ignoring invalid distribution -rotobuf (c:\\users\\hp\\anaconda3\\lib\\site-packages)\n",
      "WARNING: Ignoring invalid distribution -rotobuf (c:\\users\\hp\\anaconda3\\lib\\site-packages)\n",
      "WARNING: Ignoring invalid distribution -rotobuf (c:\\users\\hp\\anaconda3\\lib\\site-packages)\n",
      "WARNING: Ignoring invalid distribution -rotobuf (c:\\users\\hp\\anaconda3\\lib\\site-packages)\n"
     ]
    },
    {
     "name": "stdout",
     "output_type": "stream",
     "text": [
      "\n",
      "Requirement already satisfied: munch in c:\\users\\hp\\anaconda3\\lib\\site-packages (from pretrainedmodels) (2.5.0)\n",
      "Requirement already satisfied: torch in c:\\users\\hp\\anaconda3\\lib\\site-packages (from pretrainedmodels) (2.0.0)\n",
      "Requirement already satisfied: torchvision in c:\\users\\hp\\anaconda3\\lib\\site-packages (from pretrainedmodels) (0.15.1)\n",
      "Requirement already satisfied: tqdm in c:\\users\\hp\\anaconda3\\lib\\site-packages (from pretrainedmodels) (4.64.1)\n",
      "Requirement already satisfied: six in c:\\users\\hp\\anaconda3\\lib\\site-packages (from munch->pretrainedmodels) (1.16.0)\n",
      "Requirement already satisfied: filelock in c:\\users\\hp\\anaconda3\\lib\\site-packages (from torch->pretrainedmodels) (3.9.0)\n",
      "Requirement already satisfied: networkx in c:\\users\\hp\\anaconda3\\lib\\site-packages (from torch->pretrainedmodels) (2.8.4)\n",
      "Requirement already satisfied: jinja2 in c:\\users\\hp\\anaconda3\\lib\\site-packages (from torch->pretrainedmodels) (2.11.2)\n",
      "Requirement already satisfied: typing-extensions in c:\\users\\hp\\anaconda3\\lib\\site-packages (from torch->pretrainedmodels) (4.1.1)\n",
      "Requirement already satisfied: sympy in c:\\users\\hp\\anaconda3\\lib\\site-packages (from torch->pretrainedmodels) (1.11.1)\n",
      "Requirement already satisfied: requests in c:\\users\\hp\\anaconda3\\lib\\site-packages (from torchvision->pretrainedmodels) (2.27.1)\n",
      "Requirement already satisfied: pillow!=8.3.*,>=5.3.0 in c:\\users\\hp\\anaconda3\\lib\\site-packages (from torchvision->pretrainedmodels) (9.1.0)\n",
      "Requirement already satisfied: numpy in c:\\users\\hp\\anaconda3\\lib\\site-packages (from torchvision->pretrainedmodels) (1.24.3)\n",
      "Requirement already satisfied: colorama in c:\\users\\hp\\anaconda3\\lib\\site-packages (from tqdm->pretrainedmodels) (0.4.6)\n",
      "Requirement already satisfied: MarkupSafe>=0.23 in c:\\users\\hp\\anaconda3\\lib\\site-packages (from jinja2->torch->pretrainedmodels) (1.1.1)\n",
      "Requirement already satisfied: urllib3<1.27,>=1.21.1 in c:\\users\\hp\\anaconda3\\lib\\site-packages (from requests->torchvision->pretrainedmodels) (1.26.9)\n",
      "Requirement already satisfied: idna<4,>=2.5 in c:\\users\\hp\\anaconda3\\lib\\site-packages (from requests->torchvision->pretrainedmodels) (3.3)\n",
      "Requirement already satisfied: charset-normalizer~=2.0.0 in c:\\users\\hp\\anaconda3\\lib\\site-packages (from requests->torchvision->pretrainedmodels) (2.0.12)\n",
      "Requirement already satisfied: certifi>=2017.4.17 in c:\\users\\hp\\anaconda3\\lib\\site-packages (from requests->torchvision->pretrainedmodels) (2021.10.8)\n",
      "Requirement already satisfied: mpmath>=0.19 in c:\\users\\hp\\anaconda3\\lib\\site-packages (from sympy->torch->pretrainedmodels) (1.2.1)\n"
     ]
    }
   ],
   "source": [
    "!pip install pretrainedmodels"
   ]
  },
  {
   "cell_type": "code",
   "execution_count": 33,
   "id": "f4bb3dfa",
   "metadata": {},
   "outputs": [],
   "source": [
    "import os\n",
    "import torch\n",
    "import matplotlib.pyplot as plt\n",
    "import matplotlib\n",
    "from tqdm import tqdm\n",
    "matplotlib.style.use('ggplot')"
   ]
  },
  {
   "cell_type": "markdown",
   "id": "e4f9f71b",
   "metadata": {},
   "source": [
    "<h2 style=\"color:black\">Function to Clean the Data</h2>"
   ]
  },
  {
   "cell_type": "code",
   "execution_count": 34,
   "id": "1fc2da6c",
   "metadata": {},
   "outputs": [],
   "source": [
    "def clean_data(df):\n",
    "    \"\"\"\n",
    "    this functions removes those rows from the DataFrame for which there are\n",
    "    no images in the dataset\n",
    "    \"\"\"\n",
    "    drop_indices = []\n",
    "    print('[INFO]: Checking if all images are present')\n",
    "    for index, image_id in tqdm(df.iterrows()):\n",
    "        if not os.path.exists(f\"C:\\\\Users\\\\HP\\\\Desktop\\\\Mahidi\\\\FYP\\\\Datasets\\\\Fashion Product Images\\\\images\\\\{image_id.id}.jpg\"):\n",
    "            drop_indices.append(index)\n",
    "    print(f\"[INFO]: Dropping indices: {drop_indices}\")\n",
    "    df.drop(df.index[drop_indices], inplace=True)\n",
    "    return df"
   ]
  },
  {
   "cell_type": "markdown",
   "id": "9f98c2ef",
   "metadata": {},
   "source": [
    "<h2 style=\"color:black\">Function to Save the Model</h2>"
   ]
  },
  {
   "cell_type": "code",
   "execution_count": 35,
   "id": "4ea212eb",
   "metadata": {},
   "outputs": [],
   "source": [
    "# save the trained model to disk\n",
    "def save_model(epochs, model, optimizer, criterion):\n",
    "    torch.save({\n",
    "                'epoch': epochs,\n",
    "                'model_state_dict': model.state_dict(),\n",
    "                'optimizer_state_dict': optimizer.state_dict(),\n",
    "                'loss': criterion,\n",
    "                }, 'C:\\\\Users\\\\HP\\\\Desktop\\\\Mahidi\\\\FYP\\\\My Work\\\\Fashion Product Caption Generator\\\\Fashion Category Extractor\\\\category_extraction_model.pth')"
   ]
  },
  {
   "cell_type": "markdown",
   "id": "373b1480",
   "metadata": {},
   "source": [
    "<h2 style=\"color:black\">Function to Save the Loss Plots</h2>"
   ]
  },
  {
   "cell_type": "code",
   "execution_count": 36,
   "id": "eea20279",
   "metadata": {},
   "outputs": [],
   "source": [
    "# save the train and validation loss plots to disk\n",
    "def save_loss_plot(train_loss, val_loss):\n",
    "    plt.figure(figsize=(10, 7))\n",
    "    plt.plot(train_loss, color='orange', label='train loss')\n",
    "    plt.plot(val_loss, color='red', label='validataion loss')\n",
    "    plt.xlabel('Epochs')\n",
    "    plt.ylabel('Loss')\n",
    "    plt.legend()\n",
    "    plt.savefig('C:\\\\Users\\\\HP\\\\Desktop\\\\Mahidi\\\\FYP\\\\My Work\\\\Fashion Product Caption Generator\\\\Fashion Category Extractor\\\\loss.jpg')\n",
    "    plt.show()"
   ]
  },
  {
   "cell_type": "markdown",
   "id": "097fee4b",
   "metadata": {},
   "source": [
    "<h2 style=\"color:black\">Preparing the Label Dictionaries</h2>"
   ]
  },
  {
   "cell_type": "code",
   "execution_count": 37,
   "id": "5c566108",
   "metadata": {},
   "outputs": [],
   "source": [
    "import pandas as pd\n",
    "import joblib"
   ]
  },
  {
   "cell_type": "markdown",
   "id": "47d2ea82",
   "metadata": {},
   "source": [
    "<h3 style=\"color:black\">Function to Map the Categories to Numbers and Save Them</h3>"
   ]
  },
  {
   "cell_type": "code",
   "execution_count": 38,
   "id": "b8f8f6b9",
   "metadata": {},
   "outputs": [
    {
     "name": "stdout",
     "output_type": "stream",
     "text": [
      "[INFO]: Checking if all images are present\n"
     ]
    },
    {
     "name": "stderr",
     "output_type": "stream",
     "text": [
      "44446it [00:21, 2113.07it/s]"
     ]
    },
    {
     "name": "stdout",
     "output_type": "stream",
     "text": [
      "[INFO]: Dropping indices: [6697, 16207, 32324, 36399, 40022]\n"
     ]
    },
    {
     "name": "stderr",
     "output_type": "stream",
     "text": [
      "\n"
     ]
    }
   ],
   "source": [
    "def save_label_dicts(df):\n",
    "    # remove rows from the DataFrame which do not have corresponding images\n",
    "    df = clean_data(df)\n",
    "    # we will use the 'gender' and 'baseColour' labels\n",
    "    # mapping 'gender' to numerical values\n",
    "    cat_list_gender = df['gender'].unique()\n",
    "    # 5 unique categories for gender\n",
    "    num_list_gender = {cat:i for i, cat in enumerate(cat_list_gender)}\n",
    "    # mapping 'baseColour' to numerical values\n",
    "    cat_list_colour = df['baseColour'].unique()\n",
    "    # 15 unique categories for 'baseColour'\n",
    "    num_list_colour = {cat:i for i, cat in enumerate(cat_list_colour)}\n",
    "    joblib.dump(num_list_gender, 'C:\\\\Users\\\\HP\\\\Desktop\\\\Mahidi\\\\FYP\\\\My Work\\\\Fashion Product Caption Generator\\\\Fashion Category Extractor\\\\num_listGender.pkl')\n",
    "    joblib.dump(num_list_colour, 'C:\\\\Users\\\\HP\\\\Desktop\\\\Mahidi\\\\FYP\\\\My Work\\\\Fashion Product Caption Generator\\\\Fashion Category Extractor\\\\num_listColour.pkl')\n",
    "df = pd.read_csv('C:\\\\Users\\\\HP\\\\Desktop\\\\Mahidi\\\\FYP\\\\Datasets\\\\Fashion Product Images\\\\styles.csv', usecols=[0, 1, 2, 3, 4, 4, 5, 6, 9])\n",
    "save_label_dicts(df)"
   ]
  },
  {
   "cell_type": "code",
   "execution_count": 39,
   "id": "1f7828ac",
   "metadata": {},
   "outputs": [
    {
     "name": "stdout",
     "output_type": "stream",
     "text": [
      "Empty DataFrame\n",
      "Columns: [id, gender, masterCategory, subCategory, articleType, baseColour, season, productDisplayName]\n",
      "Index: []\n"
     ]
    }
   ],
   "source": [
    "# # Remove rows with missing values in the 'baseColour' column\n",
    "# df = df.dropna(subset=['baseColour'])\n",
    "\n",
    "# # Print the updated dataframe\n",
    "# print(df.dropna(subset=['baseColour']))\n",
    "missing_rows = df[df['baseColour'].isna()]\n",
    "print(missing_rows)"
   ]
  },
  {
   "cell_type": "markdown",
   "id": "e78c614f",
   "metadata": {},
   "source": [
    "<h2 style=\"color:black\">Preparing the Dataset</h2>"
   ]
  },
  {
   "cell_type": "code",
   "execution_count": 40,
   "id": "3c49040d",
   "metadata": {},
   "outputs": [
    {
     "name": "stdout",
     "output_type": "stream",
     "text": [
      "Requirement already satisfied: opencv-python in c:\\users\\hp\\anaconda3\\lib\\site-packages (4.7.0.72)\n",
      "Requirement already satisfied: numpy>=1.21.2 in c:\\users\\hp\\anaconda3\\lib\\site-packages (from opencv-python) (1.24.3)\n",
      "Note: you may need to restart the kernel to use updated packages.\n"
     ]
    },
    {
     "name": "stderr",
     "output_type": "stream",
     "text": [
      "WARNING: Ignoring invalid distribution -rotobuf (c:\\users\\hp\\anaconda3\\lib\\site-packages)\n",
      "WARNING: Ignoring invalid distribution -rotobuf (c:\\users\\hp\\anaconda3\\lib\\site-packages)\n",
      "WARNING: Ignoring invalid distribution -rotobuf (c:\\users\\hp\\anaconda3\\lib\\site-packages)\n",
      "WARNING: Ignoring invalid distribution -rotobuf (c:\\users\\hp\\anaconda3\\lib\\site-packages)\n",
      "WARNING: Ignoring invalid distribution -rotobuf (c:\\users\\hp\\anaconda3\\lib\\site-packages)\n",
      "WARNING: Ignoring invalid distribution -rotobuf (c:\\users\\hp\\anaconda3\\lib\\site-packages)\n"
     ]
    }
   ],
   "source": [
    "pip install opencv-python"
   ]
  },
  {
   "cell_type": "code",
   "execution_count": 41,
   "id": "9525700f",
   "metadata": {},
   "outputs": [],
   "source": [
    "from torch.utils.data import Dataset\n",
    "import torch\n",
    "import joblib\n",
    "import math\n",
    "import cv2\n",
    "import torchvision.transforms as transforms"
   ]
  },
  {
   "cell_type": "markdown",
   "id": "ccdfc096",
   "metadata": {},
   "source": [
    "<h2 style=\"color:black\">Split the DataFrame into Training and Validation Set</h2>"
   ]
  },
  {
   "cell_type": "code",
   "execution_count": 42,
   "id": "91cd75b6",
   "metadata": {},
   "outputs": [],
   "source": [
    "def train_val_split(df):\n",
    "    # remove rows from the DataFrame which do not have corresponding images\n",
    "    df = clean_data(df)\n",
    "    # shuffle the dataframe\n",
    "    df = df.sample(frac=1).reset_index(drop=True)\n",
    "    # 90% for training and 10% for validation\n",
    "    num_train_samples = math.floor(len(df) * 0.90)\n",
    "    num_val_samples = math.floor(len(df) * 0.10)\n",
    "    train_df = df[:num_train_samples].reset_index(drop=True)\n",
    "    val_df = df[-num_val_samples:].reset_index(drop=True)\n",
    "    return train_df, val_df"
   ]
  },
  {
   "cell_type": "code",
   "execution_count": 43,
   "id": "f817144f",
   "metadata": {},
   "outputs": [],
   "source": [
    "class FashionDataset(Dataset):\n",
    "    def __init__(self, df, is_train=True):\n",
    "        self.df = df\n",
    "        self.num_list_gender = joblib.load('C:\\\\Users\\\\HP\\\\Desktop\\\\Mahidi\\\\FYP\\\\My Work\\\\Fashion Product Caption Generator\\\\Fashion Category Extractor\\\\num_listGender.pkl')\n",
    "        self.num_list_colour = joblib.load('C:\\\\Users\\\\HP\\\\Desktop\\\\Mahidi\\\\FYP\\\\My Work\\\\Fashion Product Caption Generator\\\\Fashion Category Extractor\\\\num_listColour.pkl')\n",
    "        \n",
    "        self.is_train = is_train\n",
    "        # the training transforms and augmentations\n",
    "        if self.is_train:\n",
    "            self.transform = transforms.Compose([\n",
    "                transforms.ToPILImage(),\n",
    "                transforms.Resize((224, 224)),\n",
    "                transforms.RandomHorizontalFlip(p=0.5),\n",
    "                transforms.RandomVerticalFlip(p=0.5),\n",
    "                transforms.ToTensor(), \n",
    "                transforms.Normalize(mean=[0.485, 0.456, 0.406],\n",
    "                                     std=[0.229, 0.224, 0.225])\n",
    "            ])\n",
    "        # the validation transforms\n",
    "        if not self.is_train:\n",
    "            self.transform = transforms.Compose([\n",
    "                transforms.ToPILImage(),\n",
    "                transforms.Resize((224, 224)),\n",
    "                transforms.ToTensor(),\n",
    "                transforms.Normalize(mean=[0.485, 0.456, 0.406],\n",
    "                                     std=[0.229, 0.224, 0.225])\n",
    "            ])\n",
    "    def __len__(self):\n",
    "        return len(self.df)\n",
    "    def __getitem__(self, index):\n",
    "        image = cv2.imread(f\"C:\\\\Users\\\\HP\\\\Desktop\\\\Mahidi\\\\FYP\\\\Datasets\\\\Fashion Product Images\\\\images\\\\{self.df['id'][index]}.jpg\")\n",
    "        image = cv2.cvtColor(image, cv2.COLOR_BGR2RGB)\n",
    "        image = self.transform(image)\n",
    "        cat_gender = self.df['gender'][index]\n",
    "        label_gender = self.num_list_gender[cat_gender]\n",
    "        cat_colour = self.df['baseColour'][index]\n",
    "        label_colour = self.num_list_colour[cat_colour]\n",
    "        # image to float32 tensor\n",
    "        image = torch.tensor(image, dtype=torch.float32)\n",
    "        # labels to long tensors\n",
    "        label_gender = torch.tensor(label_gender, dtype=torch.long)\n",
    "        label_colour = torch.tensor(label_colour, dtype=torch.long)\n",
    "        return {\n",
    "            'image': image,\n",
    "            'gender': label_gender,\n",
    "            'colour': label_colour\n",
    "        }"
   ]
  },
  {
   "cell_type": "markdown",
   "id": "e7d72470",
   "metadata": {},
   "source": [
    "<h2 style=\"color:black\">The Loss Function</h2>\n",
    "This is a custom function for the loss function. This is because we have two different labels for which we will have two different loss values in each iteration while training. Therefore, we will need to average over the two loss values."
   ]
  },
  {
   "cell_type": "code",
   "execution_count": 44,
   "id": "7986bf43",
   "metadata": {},
   "outputs": [],
   "source": [
    "import torch.nn as nn\n",
    "# custom loss function for multi-head multi-category classification\n",
    "def loss_fn(outputs, targets):\n",
    "    o1, o2 = outputs\n",
    "    t1, t2 = targets\n",
    "    l1 = nn.CrossEntropyLoss()(o1, t1)\n",
    "    l2 = nn.CrossEntropyLoss()(o2, t2)\n",
    "    return (l1 + l2) / 2"
   ]
  },
  {
   "cell_type": "markdown",
   "id": "715888a9",
   "metadata": {},
   "source": [
    "<h2 style=\"color:black\">The Deep Learning Model</h2>"
   ]
  },
  {
   "cell_type": "code",
   "execution_count": 45,
   "id": "2f5ff3be",
   "metadata": {},
   "outputs": [],
   "source": [
    "import torch.nn as nn\n",
    "import torch.nn.functional as F\n",
    "import pretrainedmodels"
   ]
  },
  {
   "cell_type": "code",
   "execution_count": 46,
   "id": "11f39e52",
   "metadata": {},
   "outputs": [],
   "source": [
    "class MultiHeadResNet50(nn.Module):\n",
    "    def __init__(self, pretrained, requires_grad):\n",
    "        super(MultiHeadResNet50, self).__init__()\n",
    "        if pretrained == True:\n",
    "            self.model = pretrainedmodels.__dict__['resnet50'](pretrained='imagenet')\n",
    "        else:\n",
    "            self.model = pretrainedmodels.__dict__['resnet50'](pretrained=None)\n",
    "        if requires_grad == True:\n",
    "            for param in self.model.parameters():\n",
    "                param.requires_grad = True\n",
    "            print('Training intermediate layer parameters...')\n",
    "        elif requires_grad == False:\n",
    "            for param in self.model.parameters():\n",
    "                param.requires_grad = False\n",
    "            print('Freezing intermediate layer parameters...')\n",
    "        # change the final layers according to the number of categories\n",
    "        self.l0 = nn.Linear(2048, 5) # for gender\n",
    "        self.l1 = nn.Linear(2048, 48) # for baseColour\n",
    "    def forward(self, x):\n",
    "        # get the batch size only, ignore (c, h, w)\n",
    "        batch, _, _, _ = x.shape\n",
    "        x = self.model.features(x)\n",
    "        x = F.adaptive_avg_pool2d(x, 1).reshape(batch, -1)\n",
    "        l0 = self.l0(x)\n",
    "        l1 = self.l1(x)\n",
    "        return l0, l1"
   ]
  },
  {
   "cell_type": "markdown",
   "id": "c036ed93",
   "metadata": {},
   "source": [
    "<h2 style=\"color:black\">Training</h2>"
   ]
  },
  {
   "cell_type": "code",
   "execution_count": 47,
   "id": "d7994e5e",
   "metadata": {},
   "outputs": [],
   "source": [
    "import pandas as pd\n",
    "import torch\n",
    "import torch.optim as optim\n",
    "from torch.utils.data import DataLoader\n",
    "from tqdm import tqdm"
   ]
  },
  {
   "cell_type": "code",
   "execution_count": 48,
   "id": "beeb200f",
   "metadata": {},
   "outputs": [
    {
     "name": "stderr",
     "output_type": "stream",
     "text": [
      "C:\\Users\\HP\\anaconda3\\lib\\site-packages\\torchvision\\models\\_utils.py:208: UserWarning: The parameter 'pretrained' is deprecated since 0.13 and may be removed in the future, please use 'weights' instead.\n",
      "  warnings.warn(\n",
      "C:\\Users\\HP\\anaconda3\\lib\\site-packages\\torchvision\\models\\_utils.py:223: UserWarning: Arguments other than a weight enum or `None` for 'weights' are deprecated since 0.13 and may be removed in the future. The current behavior is equivalent to passing `weights=None`.\n",
      "  warnings.warn(msg)\n"
     ]
    },
    {
     "name": "stdout",
     "output_type": "stream",
     "text": [
      "Freezing intermediate layer parameters...\n"
     ]
    }
   ],
   "source": [
    "# define the computation device\n",
    "device = torch.device('cuda' if torch.cuda.is_available() else 'cpu')\n",
    "# initialize the model\n",
    "model = MultiHeadResNet50(pretrained=True, requires_grad=False).to(device)\n",
    "# learning parameters\n",
    "lr = 0.001\n",
    "optimizer = optim.Adam(params=model.parameters(), lr=lr)\n",
    "criterion = loss_fn\n",
    "batch_size = 32\n",
    "epochs = 20"
   ]
  },
  {
   "cell_type": "markdown",
   "id": "49b1af7d",
   "metadata": {},
   "source": [
    "<h2 style=\"color:black\">Preparing the Data Loaders</h2>"
   ]
  },
  {
   "cell_type": "code",
   "execution_count": 49,
   "id": "953bac60",
   "metadata": {},
   "outputs": [
    {
     "name": "stdout",
     "output_type": "stream",
     "text": [
      "[INFO]: Checking if all images are present\n"
     ]
    },
    {
     "name": "stderr",
     "output_type": "stream",
     "text": [
      "44446it [00:15, 2935.67it/s]\n"
     ]
    },
    {
     "name": "stdout",
     "output_type": "stream",
     "text": [
      "[INFO]: Dropping indices: [6697, 16207, 32324, 36399, 40022]\n",
      "[INFO]: Number of training sampels: 39996\n",
      "[INFO]: Number of validation sampels: 4444\n"
     ]
    }
   ],
   "source": [
    "df = pd.read_csv('C:\\\\Users\\\\HP\\\\Desktop\\\\Mahidi\\\\FYP\\\\Datasets\\\\Fashion Product Images\\\\styles.csv', usecols=[0, 1, 2, 3, 4, 4, 5, 6, 9])\n",
    "train_data, val_data = train_val_split(df)\n",
    "print(f\"[INFO]: Number of training sampels: {len(train_data)}\")\n",
    "print(f\"[INFO]: Number of validation sampels: {len(val_data)}\")\n",
    "# training and validation dataset\n",
    "train_dataset = FashionDataset(train_data, is_train=True)\n",
    "val_dataset = FashionDataset(val_data, is_train=False)\n",
    "# training and validation data loader\n",
    "train_dataloader = DataLoader(\n",
    "    train_dataset, batch_size=batch_size, shuffle=True\n",
    ")\n",
    "val_dataloader = DataLoader(\n",
    "    val_dataset, batch_size=batch_size, shuffle=False\n",
    ")"
   ]
  },
  {
   "cell_type": "markdown",
   "id": "58968a03",
   "metadata": {},
   "source": [
    "<h3 style=\"color:black\">The Training Function</h3>"
   ]
  },
  {
   "cell_type": "code",
   "execution_count": 50,
   "id": "988a8731",
   "metadata": {},
   "outputs": [],
   "source": [
    "# training function\n",
    "def train(model, dataloader, optimizer, loss_fn, dataset, device):\n",
    "    model.train()\n",
    "    counter = 0\n",
    "    train_running_loss = 0.0\n",
    "    for i, data in tqdm(enumerate(dataloader), total=int(len(dataset)/dataloader.batch_size)):\n",
    "        counter += 1\n",
    "        \n",
    "        # extract the features and labels\n",
    "        image = data['image'].to(device)\n",
    "        gender = data['gender'].to(device)\n",
    "        colour = data['colour'].to(device)\n",
    "        \n",
    "        # zero-out the optimizer gradients\n",
    "        optimizer.zero_grad()\n",
    "        \n",
    "        outputs = model(image)\n",
    "        targets = (gender, colour)\n",
    "        loss = loss_fn(outputs, targets)\n",
    "        train_running_loss += loss.item()\n",
    "        \n",
    "        # backpropagation\n",
    "        loss.backward()\n",
    "        # update optimizer parameters\n",
    "        optimizer.step()\n",
    "        \n",
    "    train_loss = train_running_loss / counter\n",
    "    return train_loss"
   ]
  },
  {
   "cell_type": "markdown",
   "id": "7a07186a",
   "metadata": {},
   "source": [
    "<h3 style=\"color:black\">The Validation Function</h3>"
   ]
  },
  {
   "cell_type": "code",
   "execution_count": 51,
   "id": "8a84c332",
   "metadata": {},
   "outputs": [],
   "source": [
    "# validation function\n",
    "def validate(model, dataloader, loss_fn, dataset, device):\n",
    "    model.eval()\n",
    "    counter = 0\n",
    "    val_running_loss = 0.0\n",
    "    for i, data in tqdm(enumerate(dataloader), total=int(len(dataset)/dataloader.batch_size)):\n",
    "        counter += 1\n",
    "        \n",
    "        # extract the features and labels\n",
    "        image = data['image'].to(device)\n",
    "        gender = data['gender'].to(device)\n",
    "        colour = data['colour'].to(device)\n",
    "        \n",
    "        outputs = model(image)\n",
    "        targets = (gender, colour)\n",
    "        loss = loss_fn(outputs, targets)\n",
    "        val_running_loss += loss.item()\n",
    "        \n",
    "    val_loss = val_running_loss / counter\n",
    "    return val_loss"
   ]
  },
  {
   "cell_type": "markdown",
   "id": "1fb4d58f",
   "metadata": {},
   "source": [
    "<h3 style=\"color:black\">The Training Loop</h3>"
   ]
  },
  {
   "cell_type": "code",
   "execution_count": 22,
   "id": "b21f7df0",
   "metadata": {},
   "outputs": [
    {
     "name": "stdout",
     "output_type": "stream",
     "text": [
      "Epoch 1 of 20\n"
     ]
    },
    {
     "name": "stderr",
     "output_type": "stream",
     "text": [
      "  0%|          | 0/1249 [00:00<?, ?it/s]C:\\Users\\HP\\AppData\\Local\\Temp\\ipykernel_23024\\392201997.py:39: UserWarning: To copy construct from a tensor, it is recommended to use sourceTensor.clone().detach() or sourceTensor.clone().detach().requires_grad_(True), rather than torch.tensor(sourceTensor).\n",
      "  image = torch.tensor(image, dtype=torch.float32)\n",
      "1250it [59:02,  2.83s/it]                          \n",
      "139it [06:14,  2.69s/it]                         \n"
     ]
    },
    {
     "name": "stdout",
     "output_type": "stream",
     "text": [
      "Train Loss: 1.2397\n",
      "Validation Loss: 1.0512\n",
      "Epoch 2 of 20\n"
     ]
    },
    {
     "name": "stderr",
     "output_type": "stream",
     "text": [
      "1250it [59:18,  2.85s/it]                          \n",
      "139it [06:12,  2.68s/it]                         \n"
     ]
    },
    {
     "name": "stdout",
     "output_type": "stream",
     "text": [
      "Train Loss: 1.0897\n",
      "Validation Loss: 1.0160\n",
      "Epoch 3 of 20\n"
     ]
    },
    {
     "name": "stderr",
     "output_type": "stream",
     "text": [
      "1250it [58:46,  2.82s/it]                          \n",
      "139it [06:14,  2.70s/it]                         \n"
     ]
    },
    {
     "name": "stdout",
     "output_type": "stream",
     "text": [
      "Train Loss: 1.0521\n",
      "Validation Loss: 1.0178\n",
      "Epoch 4 of 20\n"
     ]
    },
    {
     "name": "stderr",
     "output_type": "stream",
     "text": [
      "1250it [1:03:52,  3.07s/it]                          \n",
      "139it [06:15,  2.70s/it]                         \n"
     ]
    },
    {
     "name": "stdout",
     "output_type": "stream",
     "text": [
      "Train Loss: 1.0337\n",
      "Validation Loss: 1.0158\n",
      "Epoch 5 of 20\n"
     ]
    },
    {
     "name": "stderr",
     "output_type": "stream",
     "text": [
      "1250it [58:17,  2.80s/it]                          \n",
      "139it [06:10,  2.67s/it]                         \n"
     ]
    },
    {
     "name": "stdout",
     "output_type": "stream",
     "text": [
      "Train Loss: 1.0171\n",
      "Validation Loss: 0.9893\n",
      "Epoch 6 of 20\n"
     ]
    },
    {
     "name": "stderr",
     "output_type": "stream",
     "text": [
      "1250it [1:00:01,  2.88s/it]                        \n",
      "139it [06:20,  2.74s/it]                         \n"
     ]
    },
    {
     "name": "stdout",
     "output_type": "stream",
     "text": [
      "Train Loss: 1.0023\n",
      "Validation Loss: 0.9813\n",
      "Epoch 7 of 20\n"
     ]
    },
    {
     "name": "stderr",
     "output_type": "stream",
     "text": [
      "1250it [1:19:47,  3.83s/it]                          \n",
      "139it [08:23,  3.62s/it]                         \n"
     ]
    },
    {
     "name": "stdout",
     "output_type": "stream",
     "text": [
      "Train Loss: 0.9847\n",
      "Validation Loss: 0.9588\n",
      "Epoch 8 of 20\n"
     ]
    },
    {
     "name": "stderr",
     "output_type": "stream",
     "text": [
      "1250it [1:20:32,  3.87s/it]                          \n",
      "139it [08:31,  3.68s/it]                         \n"
     ]
    },
    {
     "name": "stdout",
     "output_type": "stream",
     "text": [
      "Train Loss: 0.9801\n",
      "Validation Loss: 0.9879\n",
      "Epoch 9 of 20\n"
     ]
    },
    {
     "name": "stderr",
     "output_type": "stream",
     "text": [
      "1250it [1:39:11,  4.76s/it]                            \n",
      "139it [06:11,  2.67s/it]                         \n"
     ]
    },
    {
     "name": "stdout",
     "output_type": "stream",
     "text": [
      "Train Loss: 0.9678\n",
      "Validation Loss: 0.9378\n",
      "Epoch 10 of 20\n"
     ]
    },
    {
     "name": "stderr",
     "output_type": "stream",
     "text": [
      "1250it [58:28,  2.81s/it]                          \n",
      "139it [06:13,  2.69s/it]                         \n"
     ]
    },
    {
     "name": "stdout",
     "output_type": "stream",
     "text": [
      "Train Loss: 0.9643\n",
      "Validation Loss: 0.9573\n",
      "Epoch 11 of 20\n"
     ]
    },
    {
     "name": "stderr",
     "output_type": "stream",
     "text": [
      "1250it [1:01:26,  2.95s/it]                          \n",
      "139it [06:19,  2.73s/it]                         \n"
     ]
    },
    {
     "name": "stdout",
     "output_type": "stream",
     "text": [
      "Train Loss: 0.9557\n",
      "Validation Loss: 0.9657\n",
      "Epoch 12 of 20\n"
     ]
    },
    {
     "name": "stderr",
     "output_type": "stream",
     "text": [
      "1250it [58:51,  2.83s/it]                          \n",
      "139it [06:16,  2.71s/it]                         \n"
     ]
    },
    {
     "name": "stdout",
     "output_type": "stream",
     "text": [
      "Train Loss: 0.9451\n",
      "Validation Loss: 0.9549\n",
      "Epoch 13 of 20\n"
     ]
    },
    {
     "name": "stderr",
     "output_type": "stream",
     "text": [
      "1250it [58:36,  2.81s/it]                          \n",
      "139it [06:17,  2.72s/it]                         \n"
     ]
    },
    {
     "name": "stdout",
     "output_type": "stream",
     "text": [
      "Train Loss: 0.9396\n",
      "Validation Loss: 0.9748\n",
      "Epoch 14 of 20\n"
     ]
    },
    {
     "name": "stderr",
     "output_type": "stream",
     "text": [
      "1250it [1:02:23,  2.99s/it]                          \n",
      "139it [06:13,  2.69s/it]                         \n"
     ]
    },
    {
     "name": "stdout",
     "output_type": "stream",
     "text": [
      "Train Loss: 0.9363\n",
      "Validation Loss: 0.9491\n",
      "Epoch 15 of 20\n"
     ]
    },
    {
     "name": "stderr",
     "output_type": "stream",
     "text": [
      "1250it [59:18,  2.85s/it]                          \n",
      "139it [06:08,  2.65s/it]                         \n"
     ]
    },
    {
     "name": "stdout",
     "output_type": "stream",
     "text": [
      "Train Loss: 0.9290\n",
      "Validation Loss: 0.9290\n",
      "Epoch 16 of 20\n"
     ]
    },
    {
     "name": "stderr",
     "output_type": "stream",
     "text": [
      "1250it [59:10,  2.84s/it]                          \n",
      "139it [06:30,  2.81s/it]                         \n"
     ]
    },
    {
     "name": "stdout",
     "output_type": "stream",
     "text": [
      "Train Loss: 0.9253\n",
      "Validation Loss: 0.9566\n",
      "Epoch 17 of 20\n"
     ]
    },
    {
     "name": "stderr",
     "output_type": "stream",
     "text": [
      "1250it [1:14:51,  3.59s/it]                          \n",
      "139it [08:35,  3.71s/it]                         \n"
     ]
    },
    {
     "name": "stdout",
     "output_type": "stream",
     "text": [
      "Train Loss: 0.9183\n",
      "Validation Loss: 0.9432\n",
      "Epoch 18 of 20\n"
     ]
    },
    {
     "name": "stderr",
     "output_type": "stream",
     "text": [
      "1250it [1:13:27,  3.53s/it]                          \n",
      "139it [06:12,  2.68s/it]                         \n"
     ]
    },
    {
     "name": "stdout",
     "output_type": "stream",
     "text": [
      "Train Loss: 0.9175\n",
      "Validation Loss: 0.9797\n",
      "Epoch 19 of 20\n"
     ]
    },
    {
     "name": "stderr",
     "output_type": "stream",
     "text": [
      "1250it [59:53,  2.88s/it]                          \n",
      "139it [06:37,  2.86s/it]                         \n"
     ]
    },
    {
     "name": "stdout",
     "output_type": "stream",
     "text": [
      "Train Loss: 0.9134\n",
      "Validation Loss: 0.9950\n",
      "Epoch 20 of 20\n"
     ]
    },
    {
     "name": "stderr",
     "output_type": "stream",
     "text": [
      "1250it [1:00:22,  2.90s/it]                          \n",
      "139it [06:20,  2.74s/it]                         \n"
     ]
    },
    {
     "name": "stdout",
     "output_type": "stream",
     "text": [
      "Train Loss: 0.9121\n",
      "Validation Loss: 0.9557\n"
     ]
    },
    {
     "data": {
      "image/png": "[encoded data removed]",
      "text/plain": [
       "<Figure size 1000x700 with 1 Axes>"
      ]
     },
     "metadata": {},
     "output_type": "display_data"
    }
   ],
   "source": [
    "# start the training\n",
    "train_loss, val_loss = [], []\n",
    "for epoch in range(epochs):\n",
    "    print(f\"Epoch {epoch+1} of {epochs}\")\n",
    "    train_epoch_loss = train(\n",
    "        model, train_dataloader, optimizer, loss_fn, train_dataset, device\n",
    "    )\n",
    "    val_epoch_loss = validate(\n",
    "        model, val_dataloader, loss_fn, val_dataset, device\n",
    "    )\n",
    "    train_loss.append(train_epoch_loss)\n",
    "    val_loss.append(val_epoch_loss)\n",
    "    print(f\"Train Loss: {train_epoch_loss:.4f}\")\n",
    "    print(f\"Validation Loss: {val_epoch_loss:.4f}\")\n",
    "\n",
    "# save the model to disk\n",
    "save_model(epochs, model, optimizer, criterion)\n",
    "\n",
    "# save the training and validation loss plot to disk\n",
    "save_loss_plot(train_loss, val_loss)"
   ]
  },
  {
   "cell_type": "code",
   "execution_count": 26,
   "id": "dd4b0958",
   "metadata": {},
   "outputs": [
    {
     "name": "stderr",
     "output_type": "stream",
     "text": [
      "C:\\Users\\HP\\anaconda3\\lib\\site-packages\\torchvision\\models\\_utils.py:208: UserWarning: The parameter 'pretrained' is deprecated since 0.13 and may be removed in the future, please use 'weights' instead.\n",
      "  warnings.warn(\n",
      "C:\\Users\\HP\\anaconda3\\lib\\site-packages\\torchvision\\models\\_utils.py:223: UserWarning: Arguments other than a weight enum or `None` for 'weights' are deprecated since 0.13 and may be removed in the future. The current behavior is equivalent to passing `weights=None`.\n",
      "  warnings.warn(msg)\n"
     ]
    },
    {
     "name": "stdout",
     "output_type": "stream",
     "text": [
      "Freezing intermediate layer parameters...\n"
     ]
    }
   ],
   "source": [
    "import torch\n",
    "import cv2\n",
    "import torchvision.transforms as transforms\n",
    "import numpy as np\n",
    "import joblib\n",
    "\n",
    "# # Import the MultiHeadResNet50 class from the uploaded .ipynb file\n",
    "# %run '/content/gdrive/MyDrive/Colab Notebooks/Train_Fashion_Category_Extractor.ipynb'\n",
    "# from Train_Fashion_Category_Extractor import MultiHeadResNet50\n",
    "\n",
    "\n",
    "# define the computation device\n",
    "device = torch.device('cuda' if torch.cuda.is_available() else 'cpu')\n",
    "\n",
    "model = MultiHeadResNet50(pretrained=False, requires_grad=False)\n",
    "checkpoint = torch.load('C:\\\\Users\\\\HP\\\\Desktop\\\\Mahidi\\\\FYP\\\\My Work\\\\Fashion Product Caption Generator\\\\Fashion Category Extractor\\\\category_extraction_model.pth')\n",
    "model.load_state_dict(checkpoint['model_state_dict'])\n",
    "model.to(device)\n",
    "model.eval()\n",
    "\n",
    "transform = transforms.Compose([\n",
    "    transforms.ToPILImage(),\n",
    "    transforms.Resize((224, 224)),\n",
    "    transforms.ToTensor(),\n",
    "    transforms.Normalize(mean=[0.485, 0.456, 0.406],\n",
    "                         std=[0.229, 0.224, 0.225])\n",
    "])\n"
   ]
  },
  {
   "cell_type": "code",
   "execution_count": 67,
   "id": "bdf550f2",
   "metadata": {},
   "outputs": [
    {
     "name": "stderr",
     "output_type": "stream",
     "text": [
      "C:\\Users\\HP\\AppData\\Local\\Temp\\ipykernel_24916\\392201997.py:39: UserWarning: To copy construct from a tensor, it is recommended to use sourceTensor.clone().detach() or sourceTensor.clone().detach().requires_grad_(True), rather than torch.tensor(sourceTensor).\n",
      "  image = torch.tensor(image, dtype=torch.float32)\n"
     ]
    }
   ],
   "source": [
    "model.eval()  # Set the model to evaluation mode\n",
    "with torch.no_grad():  # Disable gradient calculation\n",
    "    for batch in val_dataloader:\n",
    "        images = batch['image']  # Extract the images from the batch\n",
    "        predicted_outputs = model(images)  # Pass the images through the model for prediction\n"
   ]
  },
  {
   "cell_type": "code",
   "execution_count": 30,
   "id": "94a232f4",
   "metadata": {},
   "outputs": [
    {
     "data": {
      "image/png": "[encoded data removed]",
      "text/plain": [
       "<Figure size 640x480 with 1 Axes>"
      ]
     },
     "metadata": {},
     "output_type": "display_data"
    },
    {
     "name": "stdout",
     "output_type": "stream",
     "text": [
      "Men Navy Blue\n"
     ]
    }
   ],
   "source": [
    "# replace with the path to your input image\n",
    "input_image_path = \"C:\\\\Users\\\\HP\\\\Desktop\\\\Mahidi\\\\Pictures\\\\12.jpg\"\n",
    "# read an image\n",
    "image = cv2.imread(input_image_path)\n",
    "# keep a copy of the original image for OpenCV functions\n",
    "orig_image = image.copy()\n",
    "image = cv2.cvtColor(image, cv2.COLOR_BGR2RGB)\n",
    "# apply image transforms\n",
    "image = transform(image)\n",
    "# add batch dimension\n",
    "image = image.unsqueeze(0).to(device)\n",
    "# forward pass the image through the model\n",
    "outputs = model(image)\n",
    "# extract the two output\n",
    "output1, output2 = outputs\n",
    "# get the index positions of the highest label score\n",
    "out_label_1 = np.argmax(output1.detach().cpu())\n",
    "out_label_2 = np.argmax(output2.detach().cpu())\n",
    "\n",
    "import matplotlib.pyplot as plt\n",
    "\n",
    "# load the label dictionaries\n",
    "num_list_gender = joblib.load('C:\\\\Users\\\\HP\\\\Desktop\\\\Mahidi\\\\FYP\\\\My Work\\\\Fashion Product Caption Generator\\\\Fashion Category Extractor\\\\num_listGender.pkl')\n",
    "num_list_colour = joblib.load('C:\\\\Users\\\\HP\\\\Desktop\\\\Mahidi\\\\FYP\\\\My Work\\\\Fashion Product Caption Generator\\\\Fashion Category Extractor\\\\num_listColour.pkl')\n",
    "\n",
    "# get the keys and values of each label dictionary\n",
    "gender_keys = list(num_list_gender.keys())\n",
    "gender_values = list(num_list_gender.values())\n",
    "colour_keys = list(num_list_colour.keys())\n",
    "colour_values = list(num_list_colour.values())\n",
    "final_labels = []\n",
    "\n",
    "# append the labels by mapping the index position to the values \n",
    "final_labels.append(gender_keys[gender_values.index(out_label_1)])\n",
    "final_labels.append(colour_keys[colour_values.index(out_label_2)])\n",
    "\n",
    "# Convert the image from BGR to RGB\n",
    "image_rgb = cv2.cvtColor(cv2.imread(input_image_path), cv2.COLOR_BGR2RGB)\n",
    "\n",
    "# Display the image\n",
    "plt.imshow(image_rgb)\n",
    "plt.axis('off')  # Optional: Remove the axis labels\n",
    "plt.show()\n",
    "\n",
    "print(final_labels[0], final_labels[1])"
   ]
  },
  {
   "cell_type": "code",
   "execution_count": null,
   "id": "9d17f72f",
   "metadata": {},
   "outputs": [],
   "source": []
  }
 ],
 "metadata": {
  "kernelspec": {
   "display_name": "Python 3 (ipykernel)",
   "language": "python",
   "name": "python3"
  },
  "language_info": {
   "codemirror_mode": {
    "name": "ipython",
    "version": 3
   },
   "file_extension": ".py",
   "mimetype": "text/x-python",
   "name": "python",
   "nbconvert_exporter": "python",
   "pygments_lexer": "ipython3",
   "version": "3.10.9"
  }
 },
 "nbformat": 4,
 "nbformat_minor": 5
}
